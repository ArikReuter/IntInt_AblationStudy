{
 "cells": [
  {
   "cell_type": "markdown",
   "metadata": {},
   "source": [
    "### Train DiffAE Toy Example"
   ]
  },
  {
   "cell_type": "markdown",
   "metadata": {},
   "source": [
    "In this notebook, the DiffAE for the toy example is trained."
   ]
  },
  {
   "cell_type": "code",
   "execution_count": 1,
   "metadata": {},
   "outputs": [],
   "source": [
    "import numpy as np\n",
    "import matplotlib.pyplot as plt\n",
    "import torch"
   ]
  },
  {
   "cell_type": "code",
   "execution_count": 2,
   "metadata": {},
   "outputs": [],
   "source": [
    "DATA_PATH = \"../../Data/Test/\""
   ]
  },
  {
   "cell_type": "code",
   "execution_count": 3,
   "metadata": {},
   "outputs": [],
   "source": [
    "images = torch.load(f\"{DATA_PATH}/images.pt\")\n",
    "quadrants = torch.load(f\"{DATA_PATH}/quadrants.pt\")"
   ]
  },
  {
   "cell_type": "code",
   "execution_count": 4,
   "metadata": {},
   "outputs": [
    {
     "data": {
      "text/plain": [
       "torch.Size([1000, 3, 10, 10])"
      ]
     },
     "execution_count": 4,
     "metadata": {},
     "output_type": "execute_result"
    }
   ],
   "source": [
    "images.shape"
   ]
  },
  {
   "cell_type": "code",
   "execution_count": 5,
   "metadata": {},
   "outputs": [
    {
     "name": "stderr",
     "output_type": "stream",
     "text": [
      "c:\\Users\\arik_\\Documents\\Dokumente\\Job_Clausthal\\Interpretation_Interpolation\\Ablation_Study\\Repository\\Diffae_copy\\metrics.py:10: TqdmWarning: IProgress not found. Please update jupyter and ipywidgets. See https://ipywidgets.readthedocs.io/en/stable/user_install.html\n",
      "  from tqdm.autonotebook import tqdm, trange\n"
     ]
    }
   ],
   "source": [
    "from templates import celeba64d2c_autoenc, train"
   ]
  },
  {
   "cell_type": "code",
   "execution_count": 10,
   "metadata": {},
   "outputs": [],
   "source": [
    "gpus = []\n",
    "conf = celeba64d2c_autoenc()"
   ]
  },
  {
   "cell_type": "code",
   "execution_count": 11,
   "metadata": {},
   "outputs": [],
   "source": [
    "dataset_images = torch.utils.data.TensorDataset(images)"
   ]
  },
  {
   "cell_type": "code",
   "execution_count": 12,
   "metadata": {},
   "outputs": [],
   "source": [
    "conf.make_dataset = lambda x: dataset_images\n",
    "conf.continue_from = None"
   ]
  },
  {
   "cell_type": "code",
   "execution_count": 13,
   "metadata": {},
   "outputs": [
    {
     "name": "stderr",
     "output_type": "stream",
     "text": [
      "Global seed set to 0\n"
     ]
    },
    {
     "name": "stdout",
     "output_type": "stream",
     "text": [
      "conf: celeba64d2c_autoenc\n",
      "Model params: 86.63 M\n",
      "ckpt path: checkpoints/celeba64d2c_autoenc/last.ckpt\n"
     ]
    },
    {
     "ename": "MisconfigurationException",
     "evalue": "GPUs requested but none are available.",
     "output_type": "error",
     "traceback": [
      "\u001b[1;31m---------------------------------------------------------------------------\u001b[0m",
      "\u001b[1;31mMisconfigurationException\u001b[0m                 Traceback (most recent call last)",
      "\u001b[1;32mc:\\Users\\arik_\\Documents\\Dokumente\\Job_Clausthal\\Interpretation_Interpolation\\Ablation_Study\\Repository\\Diffae_copy\\TrainDiffae_toy_example.ipynb Cell 11\u001b[0m line \u001b[0;36m1\n\u001b[1;32m----> <a href='vscode-notebook-cell:/c%3A/Users/arik_/Documents/Dokumente/Job_Clausthal/Interpretation_Interpolation/Ablation_Study/Repository/Diffae_copy/TrainDiffae_toy_example.ipynb#X16sZmlsZQ%3D%3D?line=0'>1</a>\u001b[0m train(conf, gpus\u001b[39m=\u001b[39;49mgpus)\n",
      "File \u001b[1;32mc:\\Users\\arik_\\Documents\\Dokumente\\Job_Clausthal\\Interpretation_Interpolation\\Ablation_Study\\Repository\\Diffae_copy\\experiment.py:918\u001b[0m, in \u001b[0;36mtrain\u001b[1;34m(conf, gpus, nodes, mode)\u001b[0m\n\u001b[0;32m    915\u001b[0m     \u001b[39m# important for working with gradient checkpoint\u001b[39;00m\n\u001b[0;32m    916\u001b[0m     plugins\u001b[39m.\u001b[39mappend(DDPPlugin(find_unused_parameters\u001b[39m=\u001b[39m\u001b[39mFalse\u001b[39;00m))\n\u001b[1;32m--> 918\u001b[0m trainer \u001b[39m=\u001b[39m pl\u001b[39m.\u001b[39;49mTrainer(\n\u001b[0;32m    919\u001b[0m     max_steps\u001b[39m=\u001b[39;49mconf\u001b[39m.\u001b[39;49mtotal_samples \u001b[39m/\u001b[39;49m\u001b[39m/\u001b[39;49m conf\u001b[39m.\u001b[39;49mbatch_size_effective,\n\u001b[0;32m    920\u001b[0m     resume_from_checkpoint\u001b[39m=\u001b[39;49mresume,\n\u001b[0;32m    921\u001b[0m     gpus\u001b[39m=\u001b[39;49mgpus,\n\u001b[0;32m    922\u001b[0m     num_nodes\u001b[39m=\u001b[39;49mnodes,\n\u001b[0;32m    923\u001b[0m     accelerator\u001b[39m=\u001b[39;49maccelerator,\n\u001b[0;32m    924\u001b[0m     precision\u001b[39m=\u001b[39;49m\u001b[39m16\u001b[39;49m \u001b[39mif\u001b[39;49;00m conf\u001b[39m.\u001b[39;49mfp16 \u001b[39melse\u001b[39;49;00m \u001b[39m32\u001b[39;49m,\n\u001b[0;32m    925\u001b[0m     callbacks\u001b[39m=\u001b[39;49m[\n\u001b[0;32m    926\u001b[0m         checkpoint,\n\u001b[0;32m    927\u001b[0m         LearningRateMonitor(),\n\u001b[0;32m    928\u001b[0m     ],\n\u001b[0;32m    929\u001b[0m     \u001b[39m# clip in the model instead\u001b[39;49;00m\n\u001b[0;32m    930\u001b[0m     \u001b[39m# gradient_clip_val=conf.grad_clip,\u001b[39;49;00m\n\u001b[0;32m    931\u001b[0m     replace_sampler_ddp\u001b[39m=\u001b[39;49m\u001b[39mTrue\u001b[39;49;00m,\n\u001b[0;32m    932\u001b[0m     logger\u001b[39m=\u001b[39;49mtb_logger,\n\u001b[0;32m    933\u001b[0m     accumulate_grad_batches\u001b[39m=\u001b[39;49mconf\u001b[39m.\u001b[39;49maccum_batches,\n\u001b[0;32m    934\u001b[0m     plugins\u001b[39m=\u001b[39;49mplugins,\n\u001b[0;32m    935\u001b[0m )\n\u001b[0;32m    937\u001b[0m \u001b[39mif\u001b[39;00m mode \u001b[39m==\u001b[39m \u001b[39m'\u001b[39m\u001b[39mtrain\u001b[39m\u001b[39m'\u001b[39m:\n\u001b[0;32m    938\u001b[0m     trainer\u001b[39m.\u001b[39mfit(model)\n",
      "File \u001b[1;32mc:\\Users\\arik_\\anaconda3\\envs\\hca\\lib\\site-packages\\pytorch_lightning\\trainer\\connectors\\env_vars_connector.py:40\u001b[0m, in \u001b[0;36m_defaults_from_env_vars.<locals>.insert_env_defaults\u001b[1;34m(self, *args, **kwargs)\u001b[0m\n\u001b[0;32m     37\u001b[0m kwargs \u001b[39m=\u001b[39m \u001b[39mdict\u001b[39m(\u001b[39mlist\u001b[39m(env_variables\u001b[39m.\u001b[39mitems()) \u001b[39m+\u001b[39m \u001b[39mlist\u001b[39m(kwargs\u001b[39m.\u001b[39mitems()))\n\u001b[0;32m     39\u001b[0m \u001b[39m# all args were already moved to kwargs\u001b[39;00m\n\u001b[1;32m---> 40\u001b[0m \u001b[39mreturn\u001b[39;00m fn(\u001b[39mself\u001b[39m, \u001b[39m*\u001b[39m\u001b[39m*\u001b[39mkwargs)\n",
      "File \u001b[1;32mc:\\Users\\arik_\\anaconda3\\envs\\hca\\lib\\site-packages\\pytorch_lightning\\trainer\\trainer.py:346\u001b[0m, in \u001b[0;36mTrainer.__init__\u001b[1;34m(self, logger, checkpoint_callback, callbacks, default_root_dir, gradient_clip_val, gradient_clip_algorithm, process_position, num_nodes, num_processes, devices, gpus, auto_select_gpus, tpu_cores, ipus, log_gpu_memory, progress_bar_refresh_rate, overfit_batches, track_grad_norm, check_val_every_n_epoch, fast_dev_run, accumulate_grad_batches, max_epochs, min_epochs, max_steps, min_steps, max_time, limit_train_batches, limit_val_batches, limit_test_batches, limit_predict_batches, val_check_interval, flush_logs_every_n_steps, log_every_n_steps, accelerator, sync_batchnorm, precision, weights_summary, weights_save_path, num_sanity_val_steps, truncated_bptt_steps, resume_from_checkpoint, profiler, benchmark, deterministic, reload_dataloaders_every_n_epochs, reload_dataloaders_every_epoch, auto_lr_find, replace_sampler_ddp, terminate_on_nan, auto_scale_batch_size, prepare_data_per_node, plugins, amp_backend, amp_level, distributed_backend, move_metrics_to_cpu, multiple_trainloader_mode, stochastic_weight_avg)\u001b[0m\n\u001b[0;32m    343\u001b[0m Trainer\u001b[39m.\u001b[39m_log_api_event(\u001b[39m\"\u001b[39m\u001b[39minit\u001b[39m\u001b[39m\"\u001b[39m)\n\u001b[0;32m    344\u001b[0m \u001b[39mself\u001b[39m\u001b[39m.\u001b[39mstate \u001b[39m=\u001b[39m TrainerState()\n\u001b[1;32m--> 346\u001b[0m gpu_ids, tpu_cores \u001b[39m=\u001b[39m \u001b[39mself\u001b[39;49m\u001b[39m.\u001b[39;49m_parse_devices(gpus, auto_select_gpus, tpu_cores)\n\u001b[0;32m    348\u001b[0m \u001b[39m# init connectors\u001b[39;00m\n\u001b[0;32m    349\u001b[0m \u001b[39mself\u001b[39m\u001b[39m.\u001b[39mdev_debugger \u001b[39m=\u001b[39m InternalDebugger(\u001b[39mself\u001b[39m)\n",
      "File \u001b[1;32mc:\\Users\\arik_\\anaconda3\\envs\\hca\\lib\\site-packages\\pytorch_lightning\\trainer\\trainer.py:1253\u001b[0m, in \u001b[0;36mTrainer._parse_devices\u001b[1;34m(self, gpus, auto_select_gpus, tpu_cores)\u001b[0m\n\u001b[0;32m   1250\u001b[0m     gpus \u001b[39m=\u001b[39m pick_multiple_gpus(gpus)\n\u001b[0;32m   1252\u001b[0m \u001b[39m# TODO (@seannaren, @kaushikb11): Include IPU parsing logic here\u001b[39;00m\n\u001b[1;32m-> 1253\u001b[0m gpu_ids \u001b[39m=\u001b[39m device_parser\u001b[39m.\u001b[39;49mparse_gpu_ids(gpus)\n\u001b[0;32m   1254\u001b[0m tpu_cores \u001b[39m=\u001b[39m device_parser\u001b[39m.\u001b[39mparse_tpu_cores(tpu_cores)\n\u001b[0;32m   1255\u001b[0m \u001b[39mreturn\u001b[39;00m gpu_ids, tpu_cores\n",
      "File \u001b[1;32mc:\\Users\\arik_\\anaconda3\\envs\\hca\\lib\\site-packages\\pytorch_lightning\\utilities\\device_parser.py:87\u001b[0m, in \u001b[0;36mparse_gpu_ids\u001b[1;34m(gpus)\u001b[0m\n\u001b[0;32m     85\u001b[0m gpus \u001b[39m=\u001b[39m _normalize_parse_gpu_input_to_list(gpus)\n\u001b[0;32m     86\u001b[0m \u001b[39mif\u001b[39;00m \u001b[39mnot\u001b[39;00m gpus:\n\u001b[1;32m---> 87\u001b[0m     \u001b[39mraise\u001b[39;00m MisconfigurationException(\u001b[39m\"\u001b[39m\u001b[39mGPUs requested but none are available.\u001b[39m\u001b[39m\"\u001b[39m)\n\u001b[0;32m     88\u001b[0m \u001b[39mif\u001b[39;00m TorchElasticEnvironment\u001b[39m.\u001b[39mis_using_torchelastic() \u001b[39mand\u001b[39;00m \u001b[39mlen\u001b[39m(gpus) \u001b[39m!=\u001b[39m \u001b[39m1\u001b[39m \u001b[39mand\u001b[39;00m \u001b[39mlen\u001b[39m(_get_all_available_gpus()) \u001b[39m==\u001b[39m \u001b[39m1\u001b[39m:\n\u001b[0;32m     89\u001b[0m     \u001b[39m# omit sanity check on torchelastic as by default shows one visible GPU per process\u001b[39;00m\n\u001b[0;32m     90\u001b[0m     \u001b[39mreturn\u001b[39;00m gpus\n",
      "\u001b[1;31mMisconfigurationException\u001b[0m: GPUs requested but none are available."
     ]
    }
   ],
   "source": [
    "train(conf, gpus=gpus)"
   ]
  },
  {
   "cell_type": "code",
   "execution_count": null,
   "metadata": {},
   "outputs": [],
   "source": []
  },
  {
   "cell_type": "code",
   "execution_count": null,
   "metadata": {},
   "outputs": [],
   "source": []
  },
  {
   "cell_type": "code",
   "execution_count": null,
   "metadata": {},
   "outputs": [],
   "source": []
  }
 ],
 "metadata": {
  "kernelspec": {
   "display_name": "intint_abl",
   "language": "python",
   "name": "python3"
  },
  "language_info": {
   "codemirror_mode": {
    "name": "ipython",
    "version": 3
   },
   "file_extension": ".py",
   "mimetype": "text/x-python",
   "name": "python",
   "nbconvert_exporter": "python",
   "pygments_lexer": "ipython3",
   "version": "3.10.6"
  }
 },
 "nbformat": 4,
 "nbformat_minor": 2
}
